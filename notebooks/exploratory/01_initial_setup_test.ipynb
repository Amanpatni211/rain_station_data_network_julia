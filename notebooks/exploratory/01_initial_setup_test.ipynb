{
 "cells": [
  {
   "cell_type": "code",
   "execution_count": 1,
   "metadata": {},
   "outputs": [
    {
     "name": "stdout",
     "output_type": "stream",
     "text": [
      "Project directory: e:\\Aman\\research\\Mission Monsoon\\Analysis\\rain_station_networks\\rain_station_data_network_julia\n",
      "Activated: false\n"
     ]
    }
   ],
   "source": [
    "using DrWatson\n",
    "@quickactivate \"rain_station_data_network_julia\"\n",
    "\n",
    "println(\"Project directory: \", projectdir())\n",
    "println(\"Activated: \", isnothing(Base.current_project()))"
   ]
  },
  {
   "cell_type": "code",
   "execution_count": 2,
   "metadata": {},
   "outputs": [
    {
     "data": {
      "text/plain": [
       "\"e:\\\\Aman\\\\research\\\\Mission Monsoon\\\\Analysis\\\\rain_station_networks\\\\rain_station_data_network_julia\\\\Project.toml\""
      ]
     },
     "metadata": {},
     "output_type": "display_data"
    }
   ],
   "source": [
    "# This activated your project environment:\n",
    "@quickactivate \"rain_station_data_network_julia\"\n",
    "\n",
    "# You can check what project you're in:\n",
    "Base.active_project() "
   ]
  },
  {
   "cell_type": "code",
   "execution_count": null,
   "metadata": {},
   "outputs": [],
   "source": []
  }
 ],
 "metadata": {
  "kernelspec": {
   "display_name": "Julia 1.11.2",
   "language": "julia",
   "name": "julia-1.11"
  },
  "language_info": {
   "file_extension": ".jl",
   "mimetype": "application/julia",
   "name": "julia",
   "version": "1.11.2"
  }
 },
 "nbformat": 4,
 "nbformat_minor": 2
}
