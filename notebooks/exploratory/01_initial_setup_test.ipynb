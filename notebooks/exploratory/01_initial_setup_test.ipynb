{
 "cells": [
  {
   "cell_type": "code",
   "execution_count": 4,
   "metadata": {},
   "outputs": [
    {
     "name": "stdout",
     "output_type": "stream",
     "text": [
      "Project directory: e:\\Aman\\research\\Mission Monsoon\\Analysis\\rain_station_networks\\rain_station_data_network_julia\n",
      "Activated: false\n"
     ]
    }
   ],
   "source": [
    "using DrWatson\n",
    "@quickactivate \"rain_station_data_network_julia\"\n",
    "\n",
    "# You can check what project you're in:\n",
    "Base.active_project() \n",
    "println(\"Project directory: \", projectdir())\n",
    "println(\"Activated: \", isnothing(Base.current_project()))"
   ]
  },
  {
   "cell_type": "code",
   "execution_count": 5,
   "metadata": {},
   "outputs": [
    {
     "name": "stdout",
     "output_type": "stream",
     "text": [
      "\u001b[32m\u001b[1mStatus\u001b[22m\u001b[39m `E:\\Aman\\research\\Mission Monsoon\\Analysis\\rain_station_networks\\rain_station_data_network_julia\\Project.toml`\n",
      "  \u001b[90m[336ed68f] \u001b[39mCSV v0.10.15\n",
      "  \u001b[90m[a93c6f00] \u001b[39mDataFrames v1.7.0\n",
      "  \u001b[90m[634d3b9d] \u001b[39mDrWatson v2.18.0\n",
      "  \u001b[90m[a2cc645c] \u001b[39mGraphPlot v0.6.0\n",
      "\u001b[32m⌃\u001b[39m \u001b[90m[86223c79] \u001b[39mGraphs v1.9.0\n",
      "  \u001b[90m[7073ff75] \u001b[39mIJulia v1.26.0\n",
      "  \u001b[90m[91a5bcdd] \u001b[39mPlots v1.40.9\n",
      "  \u001b[90m[10745b16] \u001b[39mStatistics v1.11.1\n",
      "\u001b[36m\u001b[1mInfo\u001b[22m\u001b[39m Packages marked with \u001b[32m⌃\u001b[39m have new versions available and may be upgradable.\n"
     ]
    }
   ],
   "source": [
    "#list the packages in the project julia environment\n",
    "using Pkg\n",
    "Pkg.status()"
   ]
  },
  {
   "cell_type": "code",
   "execution_count": null,
   "metadata": {},
   "outputs": [],
   "source": []
  }
 ],
 "metadata": {
  "kernelspec": {
   "display_name": "Julia 1.11.2",
   "language": "julia",
   "name": "julia-1.11"
  },
  "language_info": {
   "file_extension": ".jl",
   "mimetype": "application/julia",
   "name": "julia",
   "version": "1.11.2"
  }
 },
 "nbformat": 4,
 "nbformat_minor": 2
}
