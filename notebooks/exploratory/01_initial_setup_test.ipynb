{
 "cells": [
  {
   "cell_type": "code",
   "execution_count": 1,
   "metadata": {},
   "outputs": [
    {
     "ename": "LoadError",
     "evalue": "ArgumentError: Package DrWatson not found in current path.\n- Run `import Pkg; Pkg.add(\"DrWatson\")` to install the DrWatson package.",
     "output_type": "error",
     "traceback": [
      "ArgumentError: Package DrWatson not found in current path.\n- Run `import Pkg; Pkg.add(\"DrWatson\")` to install the DrWatson package.",
      "",
      "Stacktrace:",
      " [1] macro expansion",
      "   @ .\\loading.jl:2296 [inlined]",
      " [2] macro expansion",
      "   @ .\\lock.jl:273 [inlined]",
      " [3] __require(into::Module, mod::Symbol)",
      "   @ Base .\\loading.jl:2271",
      " [4] #invoke_in_world#3",
      "   @ .\\essentials.jl:1089 [inlined]",
      " [5] invoke_in_world",
      "   @ .\\essentials.jl:1086 [inlined]",
      " [6] require(into::Module, mod::Symbol)",
      "   @ Base .\\loading.jl:2260"
     ]
    }
   ],
   "source": [
    "using DrWatson\n",
    "@quickactivate \"rain_station_data_network_julia\"\n",
    "\n",
    "println(\"Project directory: \", projectdir())\n",
    "println(\"Activated: \", isnothing(Base.current_project()))"
   ]
  },
  {
   "cell_type": "code",
   "execution_count": null,
   "metadata": {},
   "outputs": [],
   "source": []
  }
 ],
 "metadata": {
  "kernelspec": {
   "display_name": "Julia 1.11.2",
   "language": "julia",
   "name": "julia-1.11"
  },
  "language_info": {
   "file_extension": ".jl",
   "mimetype": "application/julia",
   "name": "julia",
   "version": "1.11.2"
  }
 },
 "nbformat": 4,
 "nbformat_minor": 2
}
